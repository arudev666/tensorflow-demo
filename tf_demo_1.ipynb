{
  "nbformat": 4,
  "nbformat_minor": 0,
  "metadata": {
    "colab": {
      "name": "tf-demo-1.ipynb",
      "provenance": [],
      "include_colab_link": true
    },
    "kernelspec": {
      "name": "python3",
      "display_name": "Python 3"
    }
  },
  "cells": [
    {
      "cell_type": "markdown",
      "metadata": {
        "id": "view-in-github",
        "colab_type": "text"
      },
      "source": [
        "<a href=\"https://colab.research.google.com/github/arudev666/tensorflow-demo/blob/master/tf_demo_1.ipynb\" target=\"_parent\"><img src=\"https://colab.research.google.com/assets/colab-badge.svg\" alt=\"Open In Colab\"/></a>"
      ]
    },
    {
      "cell_type": "code",
      "metadata": {
        "id": "slnXiCiCLMRK",
        "colab_type": "code",
        "colab": {
          "base_uri": "https://localhost:8080/",
          "height": 51
        },
        "outputId": "54eeedcc-dfde-4488-bba2-dd969374a20f"
      },
      "source": [
        "import matplotlib.pyplot as plt       # Dataset visualization\n",
        "import numpy as np                    # Low level numerical python library\n",
        "import pandas as pd                   # high level numerical python library\n",
        "\n",
        "from __future__ import print_function\n",
        "\n",
        "%tensorflow_version 1.x\n",
        "import tensorflow as tf\n",
        "\n",
        "print(tf.__version__)\n",
        "\n",
        "# Create a graph\n",
        "g = tf.Graph()\n",
        "\n",
        "# Establish the grpah as the \"default\" graph\n",
        "with g.as_default():  \n",
        "  # assemble a graph consisting of the following 3 operations:\n",
        "  # * Two tf.constant operations to create the operands\n",
        "  # * One tf.add operations to add the two operands\n",
        "  x = tf.constant(8, name=\"x_const\")\n",
        "  y = tf.constant(5, name=\"y_const\")\n",
        "  z = tf.constant(4, name=\"z_const\")\n",
        "  xy_sum = tf.add(x, y, name=\"x_y_sum\")\n",
        "  xyz_sum = tf.add(xy_sum, z, name=\"x_y_z_sum\")\n",
        "\n",
        "  # Now create a session that will run the default graph\n",
        "  with tf.Session() as sess:\n",
        "      print(xyz_sum.eval())"
      ],
      "execution_count": 11,
      "outputs": [
        {
          "output_type": "stream",
          "text": [
            "1.15.0\n",
            "17\n"
          ],
          "name": "stdout"
        }
      ]
    },
    {
      "cell_type": "code",
      "metadata": {
        "id": "dsBBZm_kOq4t",
        "colab_type": "code",
        "colab": {}
      },
      "source": [
        ""
      ],
      "execution_count": 0,
      "outputs": []
    }
  ]
}