{
  "nbformat": 4,
  "nbformat_minor": 0,
  "metadata": {
    "colab": {
      "name": "tf2-mandelbrot-visual.ipynb",
      "provenance": [],
      "include_colab_link": true
    },
    "kernelspec": {
      "name": "python3",
      "display_name": "Python 3"
    }
  },
  "cells": [
    {
      "cell_type": "markdown",
      "metadata": {
        "id": "view-in-github",
        "colab_type": "text"
      },
      "source": [
        "<a href=\"https://colab.research.google.com/github/arudev666/tensorflow-demo/blob/master/tf2_mandelbrot_visual.ipynb\" target=\"_parent\"><img src=\"https://colab.research.google.com/assets/colab-badge.svg\" alt=\"Open In Colab\"/></a>"
      ]
    },
    {
      "cell_type": "code",
      "metadata": {
        "id": "BYV0Z2DPrktI",
        "colab_type": "code",
        "colab": {
          "base_uri": "https://localhost:8080/",
          "height": 34
        },
        "outputId": "72802f7a-87be-437e-c207-449755293211"
      },
      "source": [
        "try:\n",
        "  %tensorflow_version 2.x\n",
        "except Exception:\n",
        "  pass"
      ],
      "execution_count": 1,
      "outputs": [
        {
          "output_type": "stream",
          "text": [
            "TensorFlow 2.x selected.\n"
          ],
          "name": "stdout"
        }
      ]
    },
    {
      "cell_type": "code",
      "metadata": {
        "id": "lwvVAgRprrZU",
        "colab_type": "code",
        "colab": {}
      },
      "source": [
        "from __future__ import absolute_import, division, print_function, unicode_literals\n",
        "\n",
        "# Import libraries for simulation\n",
        "import tensorflow as tf\n",
        "import numpy as np\n",
        "\n",
        "# Imports for visualization\n",
        "import PIL.Image\n",
        "from io import BytesIO\n",
        "from IPython.display import clear_output, Image, display"
      ],
      "execution_count": 0,
      "outputs": []
    },
    {
      "cell_type": "code",
      "metadata": {
        "id": "uWZuuyEPr3ki",
        "colab_type": "code",
        "colab": {}
      },
      "source": [
        "# function to actually display the image once you have iteration couts\n",
        "def DisplayFractal(a, fmt='jpeg'):\n",
        "  \"\"\"Display an array of iteration counts as a\n",
        "     colorful picture of a fractal.\"\"\"\n",
        "  a_cyclic = (6.28*a/20.0).reshape(list(a.shape)+[1])\n",
        "  img = np.concatenate([10+20*np.cos(a_cyclic),\n",
        "                        30+50*np.sin(a_cyclic),\n",
        "                        155-80*np.cos(a_cyclic)], 2)\n",
        "  img[a==a.max()] = 0\n",
        "  a = img\n",
        "  a = np.uint8(np.clip(a, 0, 255))\n",
        "  f = BytesIO()\n",
        "  PIL.Image.fromarray(a).save(f, fmt)\n",
        "  display(Image(data=f.getvalue()))"
      ],
      "execution_count": 0,
      "outputs": []
    },
    {
      "cell_type": "code",
      "metadata": {
        "id": "dIlt19s5r-Xi",
        "colab_type": "code",
        "colab": {}
      },
      "source": [
        "# Use NumPy to create a 2D array of complex numbers\n",
        "\n",
        "Y, X = np.mgrid[-1.3:1.3:0.005, -2:1:0.005]\n",
        "Z = X+1j*Y\n",
        "\n",
        "# define and initialize TensorFlow tensors\n",
        "xs = tf.constant(Z.astype(np.complex64))"
      ],
      "execution_count": 0,
      "outputs": []
    }
  ]
}